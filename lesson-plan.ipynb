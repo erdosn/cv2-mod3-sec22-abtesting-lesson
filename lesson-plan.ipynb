{
 "cells": [
  {
   "cell_type": "markdown",
   "metadata": {},
   "source": [
    "### Questions"
   ]
  },
  {
   "cell_type": "markdown",
   "metadata": {},
   "source": [
    "### Objectives\n",
    "YWBAT \n",
    "* explain how A/B testing is used in industry\n",
    "* write down flow chart for choosing proper test"
   ]
  },
  {
   "cell_type": "markdown",
   "metadata": {},
   "source": [
    "### Outline"
   ]
  },
  {
   "cell_type": "code",
   "execution_count": 1,
   "metadata": {},
   "outputs": [],
   "source": [
    "import pandas as pd\n",
    "import numpy as np\n",
    "\n",
    "import scipy.stats as scs\n",
    "\n",
    "import matplotlib.pyplot as plt"
   ]
  },
  {
   "cell_type": "markdown",
   "metadata": {},
   "source": [
    "## Pablo's experience\n",
    "* Causal Inference (mentioned w/ regards to hypothesis testing)\n",
    "* Used in E-Commerce\n",
    "* Experiments\n",
    "\n",
    "* ML != Causal Inference"
   ]
  },
  {
   "cell_type": "markdown",
   "metadata": {},
   "source": [
    "## Scenario:\n",
    "\n",
    "Facebook is testing 2 algorithms for generating your 'top' newsfeed. \n",
    "\n",
    "How do we set up this test?\n",
    "* Need a control vs test group\n",
    "* What are we measuring? Define metrics to measure that Facebook equates to user engagement.\n",
    "    * Number of reactions to posts ('likes', emojis, etc) that are clicked\n",
    "* Algorithm A - currently in production\n",
    "* Algorithm B - New Algorithm to attempt and increase user engagement\n",
    "    \n",
    "**What does A/B testing do:**\n",
    "* Run both algorithms over set sample sizes\n",
    "    * Groups must be large, large sizes handle normality assumption by CLT \n",
    "    * GroupA and GroupB - similar sizes - can't change\n",
    "    * Groups should be properly randomized\n",
    "    * Collect data and measure post reactions\n",
    "* Choose some alpha value \n",
    "* How long are we doing this for? \n",
    "    * 1 month\n",
    "    * 2e6 samples in each group\n",
    "* Run Hypothesis Testing to compare Algorithm A and B's effect on engagement\n",
    "* Come to a conclusion\n",
    "* Draw up some action plans\n",
    "* Implement a new algorithm\n",
    "\n",
    "**What ML would do (Multi-Arm Bandit):**\n",
    "* Run both algorithms over set sample sizes\n",
    "    * Group must be large, large sizes handle normality assumption by CLT \n",
    "    * Group should be properly randomized\n",
    "    * Collect data and measure post reactions\n",
    "    * Half of your group gets Alg A the other half Alg B\n",
    "    * Each user is tracked\n",
    "* Choose a probablity distribution (beta distribution) that a user gets fed A or B.\n",
    "    * The probablity of choosing one algorithm would then increase/decrease based on how the user engaged with the newsfeed\n",
    "* Exploitation vs Exploration\n",
    "    * Why do we have this?\n",
    "        * Virality could mess this up\n",
    "        * Seasonality could also be an effect\n",
    "    * Leave room for a comeback story\n",
    "        * Choose some function to determine what to serve users\n",
    "            * Exploiting\n",
    "                * always serves highest probablity of beta distribution\n",
    "            * Exploration\n",
    "                * completely random\n",
    "            * balance\n",
    "                * serve high probablity, but also randomly serve"
   ]
  },
  {
   "cell_type": "markdown",
   "metadata": {},
   "source": [
    "### A/B Testing Workflow\n",
    "* Design your experiment    \n",
    "* Run your experiment\n",
    "* If 1 group\n",
    "    * 1 sample ttest against some mu\n",
    "        * Assumptions\n",
    "        * Population is normally distributed\n",
    "    * compare pvalue to alpha and reject or fail to reject null hypothesis\n",
    "* If 2 groups\n",
    "    * 2 sample ttests\n",
    "        * Welch's TTest\n",
    "            * Assumptions\n",
    "            * populations have unequal variances\n",
    "            * populations are normally distributed\n",
    "        * Student TTest\n",
    "            * Assumptions\n",
    "            * populations have equal variances\n",
    "            * populations are normally distributed\n",
    "            * populations are of equal size\n",
    "* If 2+ Groups\n",
    "    * ANOVA test\n",
    "        * Assumptions\n",
    "    * Pairwise comparisons\n",
    "        * Tukey Test\n",
    "            * Assumptions"
   ]
  },
  {
   "cell_type": "code",
   "execution_count": 2,
   "metadata": {},
   "outputs": [],
   "source": [
    "# 1 sample\n",
    "# scs.ttest_1samp\n",
    "\n",
    "# 2 sample\n",
    "# scs.ttest_ind\n",
    "\n",
    "# anova "
   ]
  },
  {
   "cell_type": "markdown",
   "metadata": {},
   "source": [
    "### Assessment"
   ]
  }
 ],
 "metadata": {
  "kernelspec": {
   "display_name": "Python 3",
   "language": "python",
   "name": "python3"
  },
  "language_info": {
   "codemirror_mode": {
    "name": "ipython",
    "version": 3
   },
   "file_extension": ".py",
   "mimetype": "text/x-python",
   "name": "python",
   "nbconvert_exporter": "python",
   "pygments_lexer": "ipython3",
   "version": "3.7.3"
  }
 },
 "nbformat": 4,
 "nbformat_minor": 2
}
